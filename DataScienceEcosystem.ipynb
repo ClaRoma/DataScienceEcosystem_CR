{
 "cells": [
  {
   "cell_type": "markdown",
   "id": "ccae40e2",
   "metadata": {},
   "source": [
    "# Data Science Tools and Ecosystem"
   ]
  },
  {
   "cell_type": "markdown",
   "id": "919ee1a9",
   "metadata": {},
   "source": [
    "In this notebook, Data Science Tools and Ecosystem are summarized."
   ]
  },
  {
   "cell_type": "markdown",
   "id": "bb15a009",
   "metadata": {},
   "source": [
    "**Objectives:**\n",
    "\n",
    "- Data Science Tools\n",
    "- Popular Data Science Languages\n",
    "- Common libraries used by Data Scientist\n",
    "- Work with different kernels\n",
    "- Versioning systems\n",
    "\n"
   ]
  },
  {
   "cell_type": "markdown",
   "id": "ad113a75",
   "metadata": {},
   "source": [
    "Some of the popular languages that Data Scientists use are:\n",
    "\n",
    "    1. Julia\n",
    "    2. Python\n",
    "    3. R\n",
    "    "
   ]
  },
  {
   "cell_type": "markdown",
   "id": "be4f6e0c",
   "metadata": {},
   "source": [
    "Some of the commonly used libraries used by Data Scientists include:\n",
    "    \n",
    "    1. NumPy\n",
    "    2. Pandas\n",
    "    3. Matplotlib\n",
    "    \n",
    "    "
   ]
  },
  {
   "cell_type": "code",
   "execution_count": 4,
   "id": "20d8563a",
   "metadata": {},
   "outputs": [
    {
     "data": {
      "text/plain": [
       "3.3333333333333335"
      ]
     },
     "execution_count": 4,
     "metadata": {},
     "output_type": "execute_result"
    }
   ],
   "source": [
    "# This will convert 200 minutes to hours by diving by 60\n"
   ]
  },
  {
   "cell_type": "markdown",
   "id": "bca8c8a2",
   "metadata": {},
   "source": [
    "|Data Science Tools|\n",
    "|----|\n",
    "|Jupyter Notebook|\n",
    "|R Studio|\n",
    "|Apache Zeppelin|\n"
   ]
  },
  {
   "cell_type": "markdown",
   "id": "4564c255",
   "metadata": {},
   "source": [
    "### Below are a few examples of evaluating arithmetic expressions in Python"
   ]
  },
  {
   "cell_type": "code",
   "execution_count": 3,
   "id": "f1903d76",
   "metadata": {},
   "outputs": [
    {
     "data": {
      "text/plain": [
       "17"
      ]
     },
     "execution_count": 3,
     "metadata": {},
     "output_type": "execute_result"
    }
   ],
   "source": [
    "# This a simple arithmetic expression to mutiply then add integers\n",
    "(3*4)+5\n"
   ]
  },
  {
   "cell_type": "code",
   "execution_count": 5,
   "id": "f61e9877",
   "metadata": {},
   "outputs": [
    {
     "data": {
      "text/plain": [
       "3.3333333333333335"
      ]
     },
     "execution_count": 5,
     "metadata": {},
     "output_type": "execute_result"
    }
   ],
   "source": [
    "# This will convert 200 minutes to hours by diving by 60\n",
    "(200/60)"
   ]
  },
  {
   "cell_type": "markdown",
   "id": "ce5a17fa",
   "metadata": {},
   "source": [
    "## Author\n",
    "Claudia Romanetti\n"
   ]
  },
  {
   "cell_type": "code",
   "execution_count": null,
   "id": "28af6099",
   "metadata": {},
   "outputs": [],
   "source": []
  }
 ],
 "metadata": {
  "kernelspec": {
   "display_name": "Python 3 (ipykernel)",
   "language": "python",
   "name": "python3"
  },
  "language_info": {
   "codemirror_mode": {
    "name": "ipython",
    "version": 3
   },
   "file_extension": ".py",
   "mimetype": "text/x-python",
   "name": "python",
   "nbconvert_exporter": "python",
   "pygments_lexer": "ipython3",
   "version": "3.10.9"
  }
 },
 "nbformat": 4,
 "nbformat_minor": 5
}
